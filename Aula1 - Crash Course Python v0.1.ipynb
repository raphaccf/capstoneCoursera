{
 "cells": [
  {
   "cell_type": "markdown",
   "metadata": {},
   "source": [
    "<div align='left' style=\"width:400px;height:120px;overflow:hidden;\">\n",
    "<a href='https://eesp.fgv.br/cursos/pos-graduacao-profissional/mestrado-profissional-financas-e-economia--engenharia-financeira'>\n",
    "<img align='left' style='display: block;height: 92%' src='logoFGVEESP.png' alt='FGV logo' title='FGV'/>\n",
    "</a>\n",
    "</div>\n",
    "\n",
    "# Aula 1 - Introdução à linguagem de programação Python 3\n",
    "\n",
    "## Técnicas de Inteligência Computacional ll\n",
    "\n",
    "## Prof. [Gerson de Souza Faria](http://systemssoperfect.com) \n",
    "\n",
    "[gerson.faria@fgv.br](mailto:gerson.faria@fgv.br) \n",
    "\n",
    "> (Baseado em Rick Muller's [A Crash Course in Python for Scientists](http://nbviewer.ipython.org/gist/rpmuller/5920182)\n",
    "\n",
    "versão 0.1 (Julho/2019)"
   ]
  },
  {
   "cell_type": "markdown",
   "metadata": {},
   "source": [
    "# I.  Panorama geral\n",
    "\n",
    "Esta introdução ao Python tem como objetivo apresentar uma pequena coleção de referência ao curso Técnicas de Inteligência Computacional II. Há muitas referências sobre a linguagem para vários públicos, mas uma boa e completa referência à linguagem é o próprio [Tutorial de Python](http://docs.python.org/3/tutorial/).\n",
    "\n",
    "Nossas aulas serão baseadas em notebooks IPython/Jupyter, que permitem a execução interativa de código Python. Há uma introdução no site [IPython notebook documentation](http://ipython.org/notebook.html) e se você quiser aprender a programar mais profundamente nessa linguagem de apresentação, o link do [Tutorial IPython](http://ipython.org/ipython-doc/dev/interactive/tutorial.html) é uma ótima referência.\n",
    "\n",
    "Edição mais avançada de notebooks, como construção de belas expressões matemáticas em LaTex (MathJax) para células tipo *markdown*: <br>\n",
    "\n",
    "$$\n",
    "\\begin{array}{c}\n",
    "1 + 1 = 2\\\\\\\n",
    "e^{i\\pi} + 1 = 0\\\\\\\n",
    "\\sum_{n=1}^{\\infty} 2^{-n} = 1\\\\\\\n",
    "\\frac{\\partial V}{\\partial t}+\\frac{1}{2}\\sigma^2 S^2 \\frac{\\partial^2 V}{\\partial S^2}+rS\\frac{\\partial V}{\\partial S} - rV = 0\\\\\\\n",
    "\\boxed{\\Large{\\frac{\\partial V}{\\partial t}+\\frac{1}{2}\\sigma^2 S^2 \\frac{\\partial^2 V}{\\partial S^2}+rS\\frac{\\partial V}{\\partial S} - rV = 0}}\\\\\\\n",
    "\\end{array}\n",
    "$$\n",
    "\n",
    "...podem ser encontradas no link do projeto Jupyter [Markdown Cells](https://jupyter-notebook.readthedocs.io/en/stable/examples/Notebook/Working%20With%20Markdown%20Cells.html) com alguns belos [Exemplos](https://jupyter-notebook.readthedocs.io/en/stable/examples/Notebook/Typesetting%20Equations.html) que podem ser reaproveitados."
   ]
  },
  {
   "cell_type": "markdown",
   "metadata": {},
   "source": [
    "## Python como calculadora\n",
    "\n",
    "Obs.: Um atalho rápido para execução de uma célula `In [1]:` é o pressionamento de Shift-Enter. "
   ]
  },
  {
   "cell_type": "code",
   "execution_count": null,
   "metadata": {},
   "outputs": [],
   "source": [
    "2+2"
   ]
  },
  {
   "cell_type": "code",
   "execution_count": null,
   "metadata": {},
   "outputs": [],
   "source": [
    "(50-5*6)/4"
   ]
  },
  {
   "cell_type": "code",
   "execution_count": null,
   "metadata": {},
   "outputs": [],
   "source": [
    "7/3"
   ]
  },
  {
   "cell_type": "markdown",
   "metadata": {},
   "source": [
    "Divisão inteira de inteiros gera inteiro."
   ]
  },
  {
   "cell_type": "code",
   "execution_count": null,
   "metadata": {},
   "outputs": [],
   "source": [
    "7//3"
   ]
  },
  {
   "cell_type": "markdown",
   "metadata": {},
   "source": [
    "Divisão inteira de números em ponto flutuante gera inteiro em ponto flutuante (a.k.a \"real\")."
   ]
  },
  {
   "cell_type": "code",
   "execution_count": null,
   "metadata": {},
   "outputs": [],
   "source": [
    "7//3."
   ]
  },
  {
   "cell_type": "markdown",
   "metadata": {},
   "source": [
    "Operador `is` diferencia um número em ponto flutuante de um número (de mesmo valor) inteiro."
   ]
  },
  {
   "cell_type": "code",
   "execution_count": null,
   "metadata": {},
   "outputs": [],
   "source": [
    "7//3 is 7//3."
   ]
  },
  {
   "cell_type": "markdown",
   "metadata": {},
   "source": [
    "Operador == compara seus valores."
   ]
  },
  {
   "cell_type": "code",
   "execution_count": null,
   "metadata": {},
   "outputs": [],
   "source": [
    "7//3 == 7//3."
   ]
  },
  {
   "cell_type": "markdown",
   "metadata": {},
   "source": [
    "Raiz quadrada."
   ]
  },
  {
   "cell_type": "code",
   "execution_count": null,
   "metadata": {},
   "outputs": [],
   "source": [
    "sqrt(81)"
   ]
  },
  {
   "cell_type": "markdown",
   "metadata": {},
   "source": [
    "Funções especiais pedem o uso de bibiotecas específicas, nesse caso, usamos:\n",
    "\n",
    "    import math\n",
    "    \n",
    "...que deve ser chamada apenas uma vez, normalmente no cabeçalho de seu programa Python. \n",
    "   "
   ]
  },
  {
   "cell_type": "code",
   "execution_count": null,
   "metadata": {},
   "outputs": [],
   "source": [
    "import math\n",
    "sqrt(81)"
   ]
  },
  {
   "cell_type": "markdown",
   "metadata": {},
   "source": [
    "É necessário referenciar a classe original da função."
   ]
  },
  {
   "cell_type": "code",
   "execution_count": null,
   "metadata": {},
   "outputs": [],
   "source": [
    "math.sqrt(81)"
   ]
  },
  {
   "cell_type": "markdown",
   "metadata": {},
   "source": [
    "Atribuição de valores a variáveis é feita com o sinal = e isso já define a variável (diferentemente de linguagens como C, Java etc.) Algumas linguagens utilizam := para atribuição (;-)."
   ]
  },
  {
   "cell_type": "code",
   "execution_count": null,
   "metadata": {},
   "outputs": [],
   "source": [
    "altura = 20\n",
    "largura = 30\n",
    "area = altura*largura\n",
    "area"
   ]
  },
  {
   "cell_type": "markdown",
   "metadata": {},
   "source": [
    "A simples menção da variável imprime seu conteúdo, sem necessidade do uso de *print*."
   ]
  },
  {
   "cell_type": "markdown",
   "metadata": {},
   "source": [
    "Você pode nomear uma variável *quase* como quiser. O primeiro caractere deve ser alfabético ou \"\\_\", e pode até conter acentos. Não pode começar com números. Algumas palavras são resevadas para a linguagem e não podem ser usadas para nomear variáveis, gerando erro de sintaxe:\n",
    "\n",
    "    and, as, assert, break, class, continue, def, del, elif, else, except, \n",
    "    exec, finally, for, from, global, if, import, in, is, lambda, not, or,\n",
    "    pass, print, raise, return, try, while, with, yield\n"
   ]
  },
  {
   "cell_type": "code",
   "execution_count": null,
   "metadata": {},
   "outputs": [],
   "source": [
    "número = 3"
   ]
  },
  {
   "cell_type": "markdown",
   "metadata": {},
   "source": [
    "Há distinção entre maíusculas e minúsculas (*case sensitiveness*)."
   ]
  },
  {
   "cell_type": "code",
   "execution_count": null,
   "metadata": {},
   "outputs": [],
   "source": [
    "Número"
   ]
  },
  {
   "cell_type": "markdown",
   "metadata": {},
   "source": [
    "## Strings\n",
    "Strings são listas de caracteres imprimíveis e são definidos com aspas simples ou duplas. Caractere de escape '\\\\' permite a inclusão de aspas na string, quando usando o mesmo caractere na definição e no corpo."
   ]
  },
  {
   "cell_type": "code",
   "execution_count": null,
   "metadata": {},
   "outputs": [],
   "source": [
    "'Perdigão \\'perdeu\\' a pena, não há mal que lhe não venha'"
   ]
  },
  {
   "cell_type": "code",
   "execution_count": null,
   "metadata": {},
   "outputs": [],
   "source": [
    "\"Perdigão 'perdeu' a pena, não há mal que lhe não venha\""
   ]
  },
  {
   "cell_type": "markdown",
   "metadata": {},
   "source": [
    "Variáveis podem conter o conteúdo de strings, obviamente."
   ]
  },
  {
   "cell_type": "code",
   "execution_count": null,
   "metadata": {},
   "outputs": [],
   "source": [
    "trechoVersoCamões = \"Perdigão 'perdeu' a pena, não há mal que lhe não venha\""
   ]
  },
  {
   "cell_type": "markdown",
   "metadata": {},
   "source": [
    "Impressão na tela com **print**:"
   ]
  },
  {
   "cell_type": "code",
   "execution_count": null,
   "metadata": {},
   "outputs": [],
   "source": [
    "print(trechoVersoCamões)"
   ]
  },
  {
   "cell_type": "markdown",
   "metadata": {},
   "source": [
    "*Print* permite impressão de tipos distintos na mesma expressão:"
   ]
  },
  {
   "cell_type": "code",
   "execution_count": null,
   "metadata": {},
   "outputs": [],
   "source": [
    "print(\"O trecho [\",trechoVersoCamões, \"] possui\", len(trechoVersoCamões),\"caracteres.\")"
   ]
  },
  {
   "cell_type": "markdown",
   "metadata": {},
   "source": [
    "Concatenação de strings pode ser feita com o uso do operator +"
   ]
  },
  {
   "cell_type": "code",
   "execution_count": null,
   "metadata": {},
   "outputs": [],
   "source": [
    "trechoVersoCamõesMaior = trechoVersoCamões + \". \" + \"Perdigão que o pensamento Subiu a um alto lugar, Perde a pena do voar, Ganha a pena do tormento.\"\n",
    "print(trechoVersoCamõesMaior)"
   ]
  },
  {
   "cell_type": "markdown",
   "metadata": {},
   "source": [
    "## Listas\n",
    "Lista é um grupo de itens agrupados na ordem de inserção (não precisam ser de mesmo tipo!). "
   ]
  },
  {
   "cell_type": "code",
   "execution_count": null,
   "metadata": {},
   "outputs": [],
   "source": [
    "lista_bizarra = [2,\"Monday\",3.14159265,math.pi]"
   ]
  },
  {
   "cell_type": "code",
   "execution_count": null,
   "metadata": {},
   "outputs": [],
   "source": [
    "type(lista_bizarra)"
   ]
  },
  {
   "cell_type": "markdown",
   "metadata": {},
   "source": [
    "Você acessa os mebros de uma lista usando um **índice** numérico, cujo primeiro item possui índice **0**, como na linguagem C."
   ]
  },
  {
   "cell_type": "code",
   "execution_count": null,
   "metadata": {},
   "outputs": [],
   "source": [
    "lista_bizarra[3]/lista_bizarra[2]"
   ]
  },
  {
   "cell_type": "markdown",
   "metadata": {},
   "source": [
    "O último item de uma lista é indexado como **-1**:"
   ]
  },
  {
   "cell_type": "code",
   "execution_count": null,
   "metadata": {},
   "outputs": [],
   "source": [
    "lista_bizarra[-1]"
   ]
  },
  {
   "cell_type": "markdown",
   "metadata": {},
   "source": [
    "O comando `.append()` adiciona um item ao final da lista:"
   ]
  },
  {
   "cell_type": "code",
   "execution_count": null,
   "metadata": {},
   "outputs": [],
   "source": [
    "lista_bizarra.append([])\n",
    "print(lista_bizarra)"
   ]
  },
  {
   "cell_type": "markdown",
   "metadata": {},
   "source": [
    "O tamanho de uma lista é obtido com a função `len()`"
   ]
  },
  {
   "cell_type": "code",
   "execution_count": null,
   "metadata": {},
   "outputs": [],
   "source": [
    "help(len)"
   ]
  },
  {
   "cell_type": "code",
   "execution_count": null,
   "metadata": {},
   "outputs": [],
   "source": [
    "len(lista_bizarra)"
   ]
  },
  {
   "cell_type": "markdown",
   "metadata": {},
   "source": [
    "A funçao `range()` é uma forma conveniente de criar uma lista sequencial de números:"
   ]
  },
  {
   "cell_type": "code",
   "execution_count": null,
   "metadata": {},
   "outputs": [],
   "source": [
    "help(range)"
   ]
  },
  {
   "cell_type": "code",
   "execution_count": null,
   "metadata": {},
   "outputs": [],
   "source": [
    "r = range(0,10,1)"
   ]
  },
  {
   "cell_type": "code",
   "execution_count": null,
   "metadata": {},
   "outputs": [],
   "source": [
    "print(r)"
   ]
  },
  {
   "cell_type": "markdown",
   "metadata": {},
   "source": [
    "A sintaxe é `range(stop)` ou `range(start,stop[,step])`"
   ]
  },
  {
   "cell_type": "code",
   "execution_count": null,
   "metadata": {},
   "outputs": [],
   "source": [
    "r = list(r)\n",
    "print(r)"
   ]
  },
  {
   "cell_type": "code",
   "execution_count": null,
   "metadata": {},
   "outputs": [],
   "source": [
    "help(len)"
   ]
  },
  {
   "cell_type": "markdown",
   "metadata": {},
   "source": [
    "## Iterações, identação e blocos\n",
    "É muito comum (e útil) varrer todos os elementos de uma lista em sequência, ou seja, *iterar*. Para isso, use a expressão `for`:"
   ]
  },
  {
   "cell_type": "code",
   "execution_count": null,
   "metadata": {},
   "outputs": [],
   "source": [
    "for item in r:\n",
    "    print(\"o quadrado de \", item,\" é \",item*item)"
   ]
  },
  {
   "cell_type": "markdown",
   "metadata": {},
   "source": [
    "## *Slicing*\n",
    "\n",
    "É possível selecionar uma faixa de itens de uma lista. A sintaxe da indexação é `[início:fim-1[:passo]]`."
   ]
  },
  {
   "cell_type": "code",
   "execution_count": null,
   "metadata": {},
   "outputs": [],
   "source": [
    "r[1:4:2]"
   ]
  },
  {
   "cell_type": "markdown",
   "metadata": {},
   "source": [
    "Se a seleção deve iniciar do zero:"
   ]
  },
  {
   "cell_type": "code",
   "execution_count": null,
   "metadata": {},
   "outputs": [],
   "source": [
    "r[:4]"
   ]
  },
  {
   "cell_type": "markdown",
   "metadata": {},
   "source": [
    "Se queremos os últimos 'n' itens da lista, fazemos:"
   ]
  },
  {
   "cell_type": "code",
   "execution_count": null,
   "metadata": {},
   "outputs": [],
   "source": [
    "r[-3:]"
   ]
  },
  {
   "cell_type": "markdown",
   "metadata": {},
   "source": [
    "Se quisermos selecionar uma lista inteira com passo:"
   ]
  },
  {
   "cell_type": "code",
   "execution_count": null,
   "metadata": {},
   "outputs": [],
   "source": [
    "\n",
    "r[::2]\n"
   ]
  },
  {
   "cell_type": "markdown",
   "metadata": {},
   "source": [
    "## Variáveis booleanas e teste lógico\n",
    "\n",
    "Variáveis boolenas podem ser 'True' ou 'False'. Tais variáveis permitem avaliar condições de controle em um programa."
   ]
  },
  {
   "cell_type": "code",
   "execution_count": 1,
   "metadata": {},
   "outputs": [
    {
     "name": "stdout",
     "output_type": "stream",
     "text": [
      "Oba! Hoje tem aula de Técnicas de Inteligência Computacional 2!\n"
     ]
    }
   ],
   "source": [
    "import datetime;\n",
    "from datetime import date\n",
    "\n",
    "data = date.today()\n",
    "\n",
    "if(data.weekday() == 1): # segunda-feira=0\n",
    "    print(\"Oba! Hoje tem aula de Técnicas de Inteligência Computacional 2!\")\n",
    "else:\n",
    "    print(\"Que dia! Hoje tem lista de Técnicas de Inteligência Computacional 2!\")"
   ]
  },
  {
   "cell_type": "markdown",
   "metadata": {},
   "source": [
    "É possível comparar todos os tipos de dados em Python:"
   ]
  },
  {
   "cell_type": "code",
   "execution_count": null,
   "metadata": {},
   "outputs": [],
   "source": [
    "1 == 2"
   ]
  },
  {
   "cell_type": "code",
   "execution_count": null,
   "metadata": {},
   "outputs": [],
   "source": [
    "math.pi == 3.14159265359"
   ]
  },
  {
   "cell_type": "code",
   "execution_count": null,
   "metadata": {},
   "outputs": [],
   "source": [
    "3 < 3.14159"
   ]
  },
  {
   "cell_type": "code",
   "execution_count": null,
   "metadata": {},
   "outputs": [],
   "source": [
    "1 == 1.0"
   ]
  },
  {
   "cell_type": "code",
   "execution_count": null,
   "metadata": {},
   "outputs": [],
   "source": [
    "1 != 0"
   ]
  },
  {
   "cell_type": "code",
   "execution_count": null,
   "metadata": {},
   "outputs": [],
   "source": [
    "1 <= 2"
   ]
  },
  {
   "cell_type": "code",
   "execution_count": null,
   "metadata": {},
   "outputs": [],
   "source": [
    "1 >= 1"
   ]
  },
  {
   "cell_type": "markdown",
   "metadata": {},
   "source": [
    "Esses operadores testam o valor de uma variável. Um outro operador, `is` testa se além do valor, os objetos são de mesmo tipo:"
   ]
  },
  {
   "cell_type": "code",
   "execution_count": null,
   "metadata": {},
   "outputs": [],
   "source": [
    "1 is 1."
   ]
  },
  {
   "cell_type": "markdown",
   "metadata": {},
   "source": [
    "Comparação também serve para listas:"
   ]
  },
  {
   "cell_type": "code",
   "execution_count": null,
   "metadata": {},
   "outputs": [],
   "source": [
    "[1,2,3] == [1,2,4]"
   ]
  },
  {
   "cell_type": "code",
   "execution_count": null,
   "metadata": {},
   "outputs": [],
   "source": [
    "[1,2,3] < [1,2,4]"
   ]
  },
  {
   "cell_type": "code",
   "execution_count": null,
   "metadata": {},
   "outputs": [],
   "source": [
    "[2,2,3] < [1,209990,49990]"
   ]
  },
  {
   "cell_type": "markdown",
   "metadata": {},
   "source": [
    "O que aconteceu aqui?"
   ]
  },
  {
   "cell_type": "markdown",
   "metadata": {},
   "source": [
    "## Outras estruturas de dados: Tuplas e Dicionários\n",
    "\n",
    "Uma **tupla** é uma sequência de objetos parecida a uma lista. É construída ajuntando objetos com vírgulas, delimitando-o ou não com parenteses ou chaves:"
   ]
  },
  {
   "cell_type": "code",
   "execution_count": null,
   "metadata": {},
   "outputs": [],
   "source": [
    "fgv = 'FGV','Rua Itapeva',474,'Bela Vista','São Paulo','SP','01332-000'\n",
    "fgv"
   ]
  },
  {
   "cell_type": "code",
   "execution_count": null,
   "metadata": {},
   "outputs": [],
   "source": [
    "type(fgv)"
   ]
  },
  {
   "cell_type": "markdown",
   "metadata": {},
   "source": [
    "Como listas, tuplas tem seus elementos acessíveis por indexação numérica:"
   ]
  },
  {
   "cell_type": "code",
   "execution_count": null,
   "metadata": {},
   "outputs": [],
   "source": [
    "fgv[1]"
   ]
  },
  {
   "cell_type": "markdown",
   "metadata": {},
   "source": [
    "No entanto, elas **não** permitem edição nem adição de novos elementos. São imutáveis."
   ]
  },
  {
   "cell_type": "code",
   "execution_count": null,
   "metadata": {},
   "outputs": [],
   "source": [
    "fgv[0] = 'Fundação Getúlio Vargas'"
   ]
  },
  {
   "cell_type": "code",
   "execution_count": null,
   "metadata": {},
   "outputs": [],
   "source": [
    "fgv.append('11 3799-7630')"
   ]
  },
  {
   "cell_type": "markdown",
   "metadata": {},
   "source": [
    "Tuplas permitem atribuição múltipla:"
   ]
  },
  {
   "cell_type": "code",
   "execution_count": null,
   "metadata": {},
   "outputs": [],
   "source": [
    "instituiçao,endereço,número,bairro,cidade,estado,CEP = fgv"
   ]
  },
  {
   "cell_type": "code",
   "execution_count": null,
   "metadata": {},
   "outputs": [],
   "source": [
    "instituiçao + '/' + cidade"
   ]
  },
  {
   "cell_type": "markdown",
   "metadata": {},
   "source": [
    "**Dicionários** são objetos onde o índice é uma *chave* de tipo alfanumérica:"
   ]
  },
  {
   "cell_type": "code",
   "execution_count": null,
   "metadata": {},
   "outputs": [],
   "source": [
    "instituições = {\"FGV\": fgv, \"USP\": (),\"IBMEC\" : ()}\n",
    "print(\"O registro da FGV é\",instituições[\"FGV\"])"
   ]
  },
  {
   "cell_type": "code",
   "execution_count": null,
   "metadata": {},
   "outputs": [],
   "source": [
    "len(instituições)"
   ]
  },
  {
   "cell_type": "code",
   "execution_count": null,
   "metadata": {},
   "outputs": [],
   "source": [
    "instituições[\"FGV\"]"
   ]
  },
  {
   "cell_type": "markdown",
   "metadata": {},
   "source": [
    "## Gráficos usando Matplotlib\n",
    "\n",
    "A biblioteca padrão de gráficos do Python é chamada [Matplotlib](https://matplotlib.org). \n",
    "\n",
    "Como exemplo, utilizamos dados de um arquivo CSV (*Comma Separated Values*) de dados de inflação obtidos no website do [Banco Mundial](https://data.worldbank.org/indicator/FP.CPI.TOTL.ZG). A importação dos dados é feita com uma outra biblioteca, de tratamento de dados, chamada [Pandas](https://pandas.pydata.org). Pandas possui funcionalidades de tratamento de dados como indexação, seleção, estatística, gráficos e muito mais."
   ]
  },
  {
   "cell_type": "code",
   "execution_count": null,
   "metadata": {},
   "outputs": [],
   "source": [
    "# carregamos a biblioteca pandas utilizando o apelido (alias) 'pd' \n",
    "import pandas as pd \n",
    "\n",
    "# Le dados do arquivo 'API_FP.CPI.TOTL.ZG_DS2_en_csv_v2_40961.csv' e considera como índice a coluna 'Country Code'\n",
    "dados = pd.read_csv(\"API_FP.CPI.TOTL.ZG_DS2_en_csv_v2_40961.csv\",skiprows = [0,2],index_col =\"Country Code\") \n",
    "\n",
    "# Mostra os dados das primeiras 5 linhas \n",
    "dados.head()"
   ]
  },
  {
   "cell_type": "markdown",
   "metadata": {},
   "source": [
    "Em seguida, filtramos dados do Brasil pela chave do dicionário, 'BRA', para os anos de 1960 a 2018:"
   ]
  },
  {
   "cell_type": "code",
   "execution_count": null,
   "metadata": {},
   "outputs": [],
   "source": [
    "dados_br = dados.loc['BRA','1960':'2018']\n",
    "dados_br"
   ]
  },
  {
   "cell_type": "markdown",
   "metadata": {},
   "source": [
    "Há vários anos que não possuem dados de inflação, que são tratados como NaN (*not a number*) pelo pandas. É preciso estar atento pois em alguns casos isso é ignorado por default.\n",
    "\n",
    "Vamos plotar esses dados utilizando o pyplot. Nesse caso, os NaN são automaticamente (e convenientemente) ignorados."
   ]
  },
  {
   "cell_type": "code",
   "execution_count": null,
   "metadata": {},
   "outputs": [],
   "source": [
    "import matplotlib.pyplot as plt\n",
    "from pylab import rcParams\n",
    "\n",
    "#dimensiona o tamanho da figura\n",
    "rcParams['figure.figsize'] = 20, 10\n",
    "\n",
    "plt.plot(dados_br,label=\"factorial\")\n",
    "\n",
    "plt.xlabel(\"Ano\")\n",
    "plt.ylabel(\"Inflação (%)\")\n",
    "plt.title(\"Inflação brasileira 1981-2018 - Fonte: Banco Mundial\");\n",
    "\n",
    "plt.grid()\n",
    "\n",
    "plt.show()"
   ]
  },
  {
   "cell_type": "markdown",
   "metadata": {},
   "source": [
    "Como a amplitude dos dados de inflação no período é grande, uma alternativa é utilizar escala logarítmica no eixo y. Para isso, utilizamos a função `semilogy`. Vamos colocar dados de mais países no mesmo gráfico. "
   ]
  },
  {
   "cell_type": "code",
   "execution_count": null,
   "metadata": {},
   "outputs": [],
   "source": [
    "from matplotlib.pyplot import semilogy\n",
    "\n",
    "#incluindo dados de outros países\n",
    "\n",
    "dados_usa = dados.loc['USA','1960':'2018']\n",
    "dados_ven = dados.loc['VEN','1960':'2018']\n",
    "dados_emu = dados.loc['EMU','1960':'2018'] # zona do euro\n",
    "dados_wld = dados.loc['WLD','1960':'2018'] # mundo\n",
    "\n",
    "plt.semilogy(dados_br)\n",
    "plt.semilogy(dados_ven)\n",
    "plt.semilogy(dados_emu)\n",
    "plt.semilogy(dados_usa)\n",
    "plt.semilogy(dados_wld)\n",
    "\n",
    "plt.legend(['Brasil','Venezuela','Zona do Euro','USA','Mundial'],fontsize='x-large')\n",
    "\n",
    "plt.xlabel(\"Ano\")\n",
    "\n",
    "# rotaciona os rótulos do eixo x\n",
    "plt.xticks(rotation=60)\n",
    "\n",
    "plt.ylabel(\"Inflação (%)\")\n",
    "\n",
    "plt.title(\"Inflação 1960-2018 - Fonte: Banco Mundial\");\n",
    "\n",
    "#configuração de grades\n",
    "plt.grid(b=True, which='major', color='gray', linestyle='-')\n",
    "plt.grid(b=True, which='minor', color='lightgray', linestyle='--')\n",
    "\n",
    "plt.show()"
   ]
  },
  {
   "cell_type": "markdown",
   "metadata": {},
   "source": [
    "Matplotlib é uma biblioteca bastante rica e também é base para várias outras bibliotecas gráficas, como a [Seaborn](https://github.com/mwaskom/seaborn) que auxilia na visualização de gráficos estatísticos. Recomendo a visita à galeria do Matplotlib [Gallery](http://matplotlib.org/gallery.html) e experimentar o Seaborn.\n",
    "\n"
   ]
  },
  {
   "cell_type": "markdown",
   "metadata": {},
   "source": [
    "## Conclusão deste \"panorama geral\"\n",
    "\n",
    "Obviamente, há muito mais a ser coberto na linguagem Python. As necessidades da vida real do usuário na solução de problemas irá guiar a busca. Há muitos problemas e soluções *online* também, como no [Stack Overflow](https://stackoverflow.com) e uma infinidade de cursos com bons exemplos. Mas, para todas as dúvidas, consulte sempre o [Python Language Reference](https://docs.python.org/3/reference/)."
   ]
  },
  {
   "cell_type": "markdown",
   "metadata": {},
   "source": [
    "# II. Scipy\n",
    "\n",
    "[SciPy](https://www.scipy.org) (pronúnica “sai pai”) é um ecossistema baseado em Python de software open-source para matemática, ciência e engenharia. Em particular, esses são algus dos pacotes principais: \n",
    "\n",
    ">[NumPy](https://numpy.org): *\"Base N-dimensional array package\"*\n",
    "\n",
    ">[Scipy Library](https://www.scipy.org/scipylib/index.html): *\"Fundamental library for scientific computing\"*\n",
    "\n",
    ">[Matplotlib](https://matplotlib.org): *\"Comprehensive 2D Plotting\"* (mas tem toolkits 3D também)\n",
    "\n",
    ">[IPython](https://ipython.org) *\"Enhanced Interactive Console\"* (o *kernel* do Jupyter)\n",
    "\n",
    ">[Sympy](https://www.sympy.org/en/index.html) \"Symbolic mathematics\"\n",
    "\n",
    ">[Pandas](https://pandas.pydata.org) \"Data structures & analysis\". Que já vimos um pouco acima.\n",
    "\n",
    "Ou seja, muito do software utilizado em \"ciência de dados\" é aberto e está nessa lista. São rotinas eficientes escritas em C e Fortran que possuem muito da capacidade de pacotes como [Matlab](http://www.mathworks.com/products/matlab/) ou sua versão *open-source* [Octave](https://www.gnu.org/software/octave/). Se você é um usuário de Matlab há um guia de Numpy especialmente para você [NumPy for Matlab users](https://docs.scipy.org/doc/numpy-1.15.0/user/numpy-for-matlab-users.html).\n",
    "\n",
    "\n",
    "## Vetores e matrizes\n",
    "\n",
    "Você cria vetores e matrizes com o uso do mesmo comando `array`:"
   ]
  },
  {
   "cell_type": "code",
   "execution_count": null,
   "metadata": {},
   "outputs": [],
   "source": [
    "array([1,2,3])"
   ]
  },
  {
   "cell_type": "markdown",
   "metadata": {},
   "source": [
    "Não se esqueça de carregar a bilioteca Numpy. Você pode definir o [tipo numérico desejado](https://docs.scipy.org/doc/numpy/user/basics.types.html) por seus apelidos. Os mais comuns são 'd' (ponto flutuante de precisão dupla), 'D' (ponto flutuante de precisão dupla complexo), e 'i' inteiro de 32 bits (int32)."
   ]
  },
  {
   "cell_type": "code",
   "execution_count": null,
   "metadata": {},
   "outputs": [],
   "source": [
    "import numpy as np\n",
    "array([1,2,3])"
   ]
  },
  {
   "cell_type": "markdown",
   "metadata": {},
   "source": [
    "O formato do vetor ou matriz (genericamente chamados 'tensores') é obtido com o comando do numpy `shape`."
   ]
  },
  {
   "cell_type": "code",
   "execution_count": null,
   "metadata": {},
   "outputs": [],
   "source": [
    "a = np.array([1,2,3])\n",
    "np.shape(a)"
   ]
  },
  {
   "cell_type": "code",
   "execution_count": null,
   "metadata": {},
   "outputs": [],
   "source": [
    "type(a)"
   ]
  },
  {
   "cell_type": "markdown",
   "metadata": {},
   "source": [
    "Um array é um array com \"uma dimensão\", nem linha nem coluna..."
   ]
  },
  {
   "cell_type": "code",
   "execution_count": null,
   "metadata": {},
   "outputs": [],
   "source": [
    "a.T.dot(a) == a.dot(a.T) #.T = transposição"
   ]
  },
  {
   "cell_type": "markdown",
   "metadata": {},
   "source": [
    "Uma matriz é definida como listas. "
   ]
  },
  {
   "cell_type": "code",
   "execution_count": null,
   "metadata": {},
   "outputs": [],
   "source": [
    "\n",
    "a = np.array([[0,1],[1,0]],'d')\n",
    "\n",
    "np.shape(a)"
   ]
  },
  {
   "cell_type": "markdown",
   "metadata": {},
   "source": [
    "É possível criar matrizes de zeros  de formato arbitrário."
   ]
  },
  {
   "cell_type": "code",
   "execution_count": null,
   "metadata": {},
   "outputs": [],
   "source": [
    "np.zeros((3,1),'d') # vetor coluna"
   ]
  },
  {
   "cell_type": "code",
   "execution_count": null,
   "metadata": {},
   "outputs": [],
   "source": [
    "np.zeros((1,3),'d') # vetor linha"
   ]
  },
  {
   "cell_type": "markdown",
   "metadata": {},
   "source": [
    "Há também um comando `identity`:"
   ]
  },
  {
   "cell_type": "code",
   "execution_count": null,
   "metadata": {},
   "outputs": [],
   "source": [
    "np.identity(4,'d')"
   ]
  },
  {
   "cell_type": "markdown",
   "metadata": {},
   "source": [
    "bem como o comando `ones`:"
   ]
  },
  {
   "cell_type": "code",
   "execution_count": null,
   "metadata": {},
   "outputs": [],
   "source": [
    "np.ones((4,4),'d')"
   ]
  },
  {
   "cell_type": "markdown",
   "metadata": {},
   "source": [
    "## Linspace\n",
    "\n",
    "``linspace`` é um comando que cria um array linear de um valor inicial a um valor final."
   ]
  },
  {
   "cell_type": "code",
   "execution_count": null,
   "metadata": {},
   "outputs": [],
   "source": [
    "np.linspace(0,1)"
   ]
  },
  {
   "cell_type": "markdown",
   "metadata": {},
   "source": [
    "Se você fornecer um terceiro argumento para o comnando, esse será o número de pontos. Caso contrário, o valor default é 50."
   ]
  },
  {
   "cell_type": "code",
   "execution_count": null,
   "metadata": {},
   "outputs": [],
   "source": [
    "np.linspace(0,1,25)"
   ]
  },
  {
   "cell_type": "markdown",
   "metadata": {},
   "source": [
    "``linspace`` é uma forma conveniente de criar coordenadas para gráficos."
   ]
  },
  {
   "cell_type": "code",
   "execution_count": null,
   "metadata": {},
   "outputs": [],
   "source": [
    "x = np.linspace(0,2*np.pi,100);\n",
    "np.sin(x)"
   ]
  },
  {
   "cell_type": "code",
   "execution_count": null,
   "metadata": {},
   "outputs": [],
   "source": [
    "rcParams['figure.figsize'] = 10, 10\n",
    "plt.plot(x,np.sin(x)**5)\n",
    "plt.grid()"
   ]
  },
  {
   "cell_type": "markdown",
   "metadata": {},
   "source": [
    "## Resolução de sistemas de equações lineares\n",
    "\n",
    "Uma das opções é utilizar o comando ``solve``:"
   ]
  },
  {
   "cell_type": "code",
   "execution_count": null,
   "metadata": {},
   "outputs": [],
   "source": [
    "A = np.array([[3.,2.,-1.],[2.,-2.,4.],[-1.,1./2,-1.]])\n",
    "b = np.array([1.,-2.,0.])\n",
    "x = np.linalg.solve(A,b)\n",
    "print(x)"
   ]
  },
  {
   "cell_type": "code",
   "execution_count": null,
   "metadata": {},
   "outputs": [],
   "source": [
    "print(A.dot(x))\n",
    "A.dot(x) == b"
   ]
  },
  {
   "cell_type": "markdown",
   "metadata": {},
   "source": [
    "## Ajuste de mínimos quadrados\n",
    "\n",
    "Imagine que temos os seguintes dados (*inline*), compostos por duas colunas separadas por vírgulas. A origem dos dados pode ser outra (via pandas/CSV p.e.), mas esse exemplo é interessante:"
   ]
  },
  {
   "cell_type": "code",
   "execution_count": null,
   "metadata": {},
   "outputs": [],
   "source": [
    "dados_xy = \"\"\"\\\n",
    "3.1905781584582433,0.028208609537968457\n",
    "4.346895074946466,0.007160804747670053\n",
    "5.374732334047101,0.0046962988461934805\n",
    "8.201284796573875,0.0004614473299618756\n",
    "10.899357601713055,0.00005038370219939726\n",
    "16.295503211991434,4.377451812785309e-7\n",
    "21.82012847965739,3.0799922117601088e-9\n",
    "32.48394004282656,1.524776208284536e-13\n",
    "43.53319057815846,5.5012073588707224e-18\"\"\""
   ]
  },
  {
   "cell_type": "markdown",
   "metadata": {},
   "source": [
    "Precisamos separar esses dados brutos em pares x,y de fato. Para isso usamos a rotina `splitlines` para separar as linhas e `split` para criar uma lista de strings de cada linha."
   ]
  },
  {
   "cell_type": "code",
   "execution_count": null,
   "metadata": {},
   "outputs": [],
   "source": [
    "data = []\n",
    "for line in dados_xy.splitlines():\n",
    "    words = line.split(',')\n",
    "    data.append(words)\n",
    "data = np.array(data,dtype=float)"
   ]
  },
  {
   "cell_type": "code",
   "execution_count": null,
   "metadata": {},
   "outputs": [],
   "source": [
    "np.shape(data)"
   ]
  },
  {
   "cell_type": "code",
   "execution_count": null,
   "metadata": {
    "scrolled": true
   },
   "outputs": [],
   "source": [
    "#dimensiona o tamanho da figura\n",
    "rcParams['figure.figsize'] = 8, 5\n",
    "plt.title(\"Dados\")\n",
    "plt.xlabel(\"x\")\n",
    "plt.ylabel(\"y\")\n",
    "plt.plot(data[:,0],data[:,1],'bo')\n",
    "plt.grid(b=True,color='lightgray', linestyle='--')"
   ]
  },
  {
   "cell_type": "markdown",
   "metadata": {},
   "source": [
    "Tem a forma de um decaimento exponencial. Podemos plotar com semi-log e verificar."
   ]
  },
  {
   "cell_type": "code",
   "execution_count": null,
   "metadata": {},
   "outputs": [],
   "source": [
    "plt.title(\"Dados\")\n",
    "plt.xlabel(\"x\")\n",
    "plt.ylabel(\"y\")\n",
    "semilogy(data[:,0],data[:,1],'bo')\n",
    "plt.grid(b=True,color='lightgray', linestyle='--')"
   ]
  },
  {
   "cell_type": "markdown",
   "metadata": {},
   "source": [
    "Para uma função expoenencial pura como essa, podemos ajustar os dados para uma reta, linearizando os dados. Dada a função de decaimento exponencial:\n",
    "\n",
    "$$ y = Ae^{-ax} $$\n",
    "\n",
    "$$ \\log(y) = \\log(A) - ax$$\n",
    "\n",
    "Assim, plotando o logaritmo de y versus x obtemos uma reta com inclinação $-a$ e cuja interceptação em $y$ $(x=0)$ nos dá o valor de $A$.\n",
    "\n",
    "Uma função do numpy chamada `polyfit` faz o ajuste na forma polinomial.\n"
   ]
  },
  {
   "cell_type": "code",
   "execution_count": null,
   "metadata": {},
   "outputs": [],
   "source": [
    "params = np.polyfit(data[:,0],np.log(data[:,1]),1)\n",
    "a = params[0]\n",
    "A = np.exp(params[1]) #não queremos log(A) mas sim A "
   ]
  },
  {
   "cell_type": "code",
   "execution_count": null,
   "metadata": {},
   "outputs": [],
   "source": [
    "print(\"A =\",A,\"\\na =\",a)"
   ]
  },
  {
   "cell_type": "markdown",
   "metadata": {},
   "source": [
    "Vejamos como o ajuste se compara aos dados:"
   ]
  },
  {
   "cell_type": "code",
   "execution_count": null,
   "metadata": {},
   "outputs": [],
   "source": [
    "x = np.linspace(1,45)\n",
    "plt.title(\"Dados\")\n",
    "plt.xlabel(\"x\")\n",
    "plt.ylabel(\"y\")\n",
    "plt.semilogy(data[:,0],data[:,1],'bo')\n",
    "plt.semilogy(x,A*np.exp(a*x),'b-')\n",
    "plt.grid(b=True,color='lightgray', linestyle='--')"
   ]
  },
  {
   "cell_type": "markdown",
   "metadata": {},
   "source": [
    "Vamos comparar o método de linearização com o método de otimização do scipy [curve_fit](https://docs.scipy.org/doc/scipy/reference/generated/scipy.optimize.curve_fit.html). Para esse método, definimos a função que queremos ajustar, de forma mais geral,\n",
    "\n",
    "$$ y = Ae^{-a(x-x_0)} + c$$\n",
    "\n",
    "Uma função de usuário é definida da forma abaixo, com a expressão `def`:"
   ]
  },
  {
   "cell_type": "code",
   "execution_count": null,
   "metadata": {},
   "outputs": [],
   "source": [
    "def func(x, A, a, x0, c):\n",
    "    return A * np.exp(-a * (x-x0)) + c"
   ]
  },
  {
   "cell_type": "code",
   "execution_count": null,
   "metadata": {},
   "outputs": [],
   "source": [
    "import scipy as sp\n",
    "from scipy.optimize import curve_fit\n",
    "\n",
    "xdata = data[:,0]\n",
    "ydata = data[:,1]\n",
    "\n",
    "popt,pcov = curve_fit(func, xdata, ydata, method='trf')\n",
    "popt\n",
    "\n",
    "plt.semilogy(xdata,ydata,'bo-')\n",
    "plt.semilogy(xdata, func(xdata, *popt), 'ro--')\n",
    "plt.grid(b=True,color='lightgray', linestyle='--')\n",
    "plt.legend(['Método 1','Método 2']);"
   ]
  },
  {
   "cell_type": "code",
   "execution_count": null,
   "metadata": {},
   "outputs": [],
   "source": [
    "err1 = A*np.exp(a*xdata) - ydata\n",
    "err2 = func(xdata, *popt) - ydata\n",
    "\n",
    "rcParams['figure.figsize'] = 10, 5\n",
    "\n",
    "N = len(xdata);\n",
    "\n",
    "err1s = np.sum((A*np.exp(a*xdata) - ydata)**2)/N\n",
    "err2s = np.sum((func(xdata, *popt) - ydata)**2)/N\n",
    "\n",
    "plt.title(\"Erros\")\n",
    "plt.xlabel(\"x\")\n",
    "plt.ylabel(\"y\")\n",
    "\n",
    "plt.plot(xdata,err1,'bo-',label='mse=%e'%err1s)\n",
    "plt.plot(xdata,err2,'ro--',label='mse=%e'%err2s)\n",
    "plt.grid(b=True,color='lightgray', linestyle='--')\n",
    "\n",
    "\n",
    "plt.legend(fontsize='large')\n",
    "\n",
    "print(\"lse1/lse2 = %2.1f\" % (err1s/err2s))\n"
   ]
  },
  {
   "cell_type": "markdown",
   "metadata": {},
   "source": [
    "O erro quadrático médio do método 1 é significativamente maior que o do método 2. Em regra geral, não é correto dizer que o método 2 é superior, pois podemos estar ajustando o ruído dos dados pois o modelo 2 é mais complexo que o 1. E o que mais podemos dizer sobre essa comparação de modelos?"
   ]
  },
  {
   "cell_type": "markdown",
   "metadata": {},
   "source": [
    "## Método de Monte Carlo e estimativas de $\\pi$ \n",
    "\n",
    "Há vários problemas que involvem integrais complicadas que são solucionados pelo método de Monte Carlo. Para isso, é preciso de bons geradores de números aleatórios. A função `random` gera numeros **pseudo** aleatórios $X \\sim \\mathcal{U}(0,1)$."
   ]
  },
  {
   "cell_type": "code",
   "execution_count": null,
   "metadata": {},
   "outputs": [],
   "source": [
    "xUniform = np.random.rand(500);\n",
    "\n",
    "plt.plot(xUniform)"
   ]
  },
  {
   "cell_type": "code",
   "execution_count": null,
   "metadata": {},
   "outputs": [],
   "source": [
    "xUniform = np.random.rand(5000);\n",
    "plt.hist(xUniform, bins=100);"
   ]
  },
  {
   "cell_type": "markdown",
   "metadata": {},
   "source": [
    "Uma estimativa de $\\pi$ pode ser calculada pela amostragem das áreas abaixo."
   ]
  },
  {
   "cell_type": "code",
   "execution_count": null,
   "metadata": {},
   "outputs": [],
   "source": [
    "npts = 10000\n",
    "\n",
    "xs = 2*np.random.rand(npts)-1\n",
    "ys = 2*np.random.rand(npts)-1\n",
    "\n",
    "r = xs**2+ys**2\n",
    "\n",
    "nDentro = (r<1.).sum()\n",
    "\n",
    "rcParams['figure.figsize'] = 8, 8 # proporção quadrada\n",
    "\n",
    "plt.title(\"Estimativa de $\\pi$ = %f\" % (4*nDentro/float(npts)))\n",
    "plt.plot(xs[r<1],ys[r<1],'b.')\n",
    "plt.plot(xs[r>1],ys[r>1],'r.');\n"
   ]
  },
  {
   "cell_type": "markdown",
   "metadata": {},
   "source": [
    "Um outro método é a expansão de Leibniz: \n",
    "\n",
    "$$\\frac{\\pi}{4} = \\sum_k \\frac{(-1)^k}{2*k+1}$$"
   ]
  },
  {
   "cell_type": "markdown",
   "metadata": {},
   "source": [
    "## Exercício 1\n",
    "\n",
    ">(a) Explique a solução via Método de Monte Carlo para a estimativa de $\\pi$.\n",
    "\n",
    ">(b) Escreva um programa em Python que plote a convergência para a estimativa de $\\pi$ para o Método de Monte Carlo e expansão de Leibniz. Escolha (ao menos) mais um método da página [Approximations of π ](https://en.wikipedia.org/wiki/Approximations_of_π) e implemente-o. Mostre qual método tem a convergência mais rápida."
   ]
  },
  {
   "cell_type": "markdown",
   "metadata": {},
   "source": [
    "## Integração numérica\n",
    "\n",
    "É comum precisarmos do cálculo de alguma integral e muitas vezes uma boa aproximação numérica é o bastante. Suponha que queiramos estimar a seguinte integral:\n",
    "\n",
    "$$\\int_{-\\infty}^{\\infty}e^{-x^2}dx$$"
   ]
  },
  {
   "cell_type": "code",
   "execution_count": null,
   "metadata": {},
   "outputs": [],
   "source": [
    "from numpy import sqrt\n",
    "def f(x): return np.exp(-x**2)\n",
    "\n",
    "rcParams['figure.figsize'] = 8, 8 \n",
    "x = np.linspace(-3,3,100)\n",
    "plt.grid(b=True,color='lightgray', linestyle='--')\n",
    "plt.plot(x,f(x));"
   ]
  },
  {
   "cell_type": "markdown",
   "metadata": {},
   "source": [
    "Scipy possui uma rotina de integração numérica chamada ``quad`` (de quadratura) que soluciona esse problema:"
   ]
  },
  {
   "cell_type": "code",
   "execution_count": null,
   "metadata": {},
   "outputs": [],
   "source": [
    "from scipy.integrate import quad\n",
    "quad(f,-np.inf,np.inf)"
   ]
  },
  {
   "cell_type": "markdown",
   "metadata": {},
   "source": [
    "## Exercício 2\n",
    "\n",
    ">(a) O que significa o segundo número obtido pela função `quad` acima? \n",
    "\n",
    ">(b) Modifique a função $f(x)$ acima de modo que a sua integral seja normalizada."
   ]
  },
  {
   "cell_type": "markdown",
   "metadata": {},
   "source": [
    "# III. Python intermediário"
   ]
  },
  {
   "cell_type": "markdown",
   "metadata": {},
   "source": [
    "## Melhorando a formatação de strings"
   ]
  },
  {
   "cell_type": "markdown",
   "metadata": {},
   "source": [
    "Em termos de formatação de strings, até agora não fomos além disso em nossos exemplos:"
   ]
  },
  {
   "cell_type": "code",
   "execution_count": null,
   "metadata": {},
   "outputs": [],
   "source": [
    "a,b,c = 1,2,3\n",
    "d = 1.7687676799\n",
    "print(\"As variáveis são \",a,b,c,d)"
   ]
  },
  {
   "cell_type": "markdown",
   "metadata": {},
   "source": [
    "Simples, porém pobre de opções. Se quisermos definir quantas casas serão apresentadas, precisamos de algo melhor. E Python utiliza basicamante o padrão `printf` do C. Por exemplo:"
   ]
  },
  {
   "cell_type": "code",
   "execution_count": null,
   "metadata": {},
   "outputs": [],
   "source": [
    "print (\"Pi como inteiro = %d\" % math.pi)\n",
    "print (\"Pi como float = %f\" % np.pi)\n",
    "print (\"Pi com 4 casas decimais = %.4f\" % np.pi)\n",
    "print (\"Pi com comprimento total de 10 posições, com 6 casas decimais = [% 10.6f]\" % np.pi)\n",
    "print (\"Pi com comprimento total de 10 posições, com 6 casas decimais = [%010.6f]\" % np.pi)\n",
    "print (\"Pi no formato exponencial = %e\" % np.pi)"
   ]
  },
  {
   "cell_type": "markdown",
   "metadata": {},
   "source": [
    "Maiores informações aqui [printf-style String Formatting](https://docs.python.org/3/library/stdtypes.html#printf-style-string-formatting)"
   ]
  },
  {
   "cell_type": "code",
   "execution_count": null,
   "metadata": {},
   "outputs": [],
   "source": [
    "print(\"As variáveis especificadas anteriormente são %d, %d, %d e %f.\" % (a,b,c,d))"
   ]
  },
  {
   "cell_type": "markdown",
   "metadata": {},
   "source": [
    "A versão 3 do Python cosidera esse método como \"antigo\" [7.1.4. Old string formatting](https://docs.python.org/3/tutorial/inputoutput.html#old-string-formatting). Se você quiser utilizar o formato mais atual, veja em [Input and Output](https://docs.python.org/3/tutorial/inputoutput.html#input-and-output). Abaixo um exemplo do método atual."
   ]
  },
  {
   "cell_type": "code",
   "execution_count": null,
   "metadata": {},
   "outputs": [],
   "source": [
    "print(f'O valor de pi com 4 casas decimais é {math.pi:.4f}.')"
   ]
  },
  {
   "cell_type": "markdown",
   "metadata": {},
   "source": [
    "## *List Comprehensions* \n",
    "\n",
    "*List comprehensions* é uma forma bem melhorada para se construir listas. A explicação fica mais fácil com um exemplo:"
   ]
  },
  {
   "cell_type": "code",
   "execution_count": null,
   "metadata": {},
   "outputs": [],
   "source": [
    "pares = [2*i+1 for i in range(10)]\n",
    "pares"
   ]
  },
  {
   "cell_type": "markdown",
   "metadata": {},
   "source": [
    "Você pode criar listas bem complicadas com essa construção: "
   ]
  },
  {
   "cell_type": "code",
   "execution_count": null,
   "metadata": {},
   "outputs": [],
   "source": [
    "#o nome disso é \"nested list comprehension\"\n",
    "constraint = [(x,y,z) for x in range(5) for y in range(5) for z in range(10) if (x+y+z == 15)]\n",
    "constraint"
   ]
  },
  {
   "cell_type": "markdown",
   "metadata": {},
   "source": [
    "## Exercício 3\n",
    "\n",
    "> Escreva uma *list comprehension* que retorne uma lista de números primos $<= N$. (Obs. **não** use bibliotecas de números primos). "
   ]
  },
  {
   "cell_type": "markdown",
   "metadata": {},
   "source": [
    "## *Factory Functions*\n",
    "\n",
    "Uma *factory function* é uma função que retorna uma função.\n",
    "\n",
    "Suponha que queremos uma gaussiana centrada em .5, com amplitude 100. Voce pode tomar a função geral:"
   ]
  },
  {
   "cell_type": "code",
   "execution_count": null,
   "metadata": {},
   "outputs": [],
   "source": [
    "def gauss(x,A,a,x0):\n",
    "    return A*np.exp(-a*(x-x0)**2)"
   ]
  },
  {
   "cell_type": "markdown",
   "metadata": {},
   "source": [
    "E criar sobre ela uma função *maker* cujos argumentos fixos são declarados:"
   ]
  },
  {
   "cell_type": "code",
   "execution_count": null,
   "metadata": {},
   "outputs": [],
   "source": [
    "def gauss_maker(A,a,x0):\n",
    "    def f(x):\n",
    "        return gauss(x,A,a,x0)\n",
    "    return f"
   ]
  },
  {
   "cell_type": "code",
   "execution_count": null,
   "metadata": {},
   "outputs": [],
   "source": [
    "x = np.linspace(0,1)\n",
    "\n",
    "#criação da função \"g\" que é uma função gaussiana com alguns argumentos fixos.\n",
    "g = gauss_maker(100.,1.0,0.5)\n",
    "\n",
    "plt.plot(x,g(x))\n",
    "\n",
    "plt.grid(b=True,color='lightgray', linestyle='--')"
   ]
  },
  {
   "cell_type": "markdown",
   "metadata": {},
   "source": [
    "## Formato JSON\n",
    "\n",
    "JSON [JavaScript Object Notation](http://json.org/) é um formato muito popular de armazenamento e transferência estruturada de dados, que é utilizado por muitos sistemas (*notebooks* Jupyter inclusive!) e navegadores da Internet. É muito fácil de usar e de fazer o *deploy* de um sistema baseado em JSON. Todas as linguagens de programação possuem uma biblioteca JSON, de Ada a Cobol, de Lua a Ruby. Isso permite interoperação de dados de maneira muito simples. \n",
    "E é um formato texto que pode ser visualizado e editado facilmente. \n",
    "\n",
    "[Há uma biblioteca padrão](http://docs.python.org/2/library/json.html) para codificação e decodificação de formato JSON para Python.\n",
    "\n",
    "Um exemplo:"
   ]
  },
  {
   "cell_type": "code",
   "execution_count": null,
   "metadata": {},
   "outputs": [],
   "source": [
    "json_data = \"\"\"\\\n",
    "{\n",
    "    \n",
    "    \"1950\" : {\n",
    "               \"país\"       : \"Brasil\",\n",
    "               \"adversário\" : \"Uruguai\",\n",
    "               \"colocação\"  : \"2\"\n",
    "             },\n",
    "    \n",
    "    \"1958\" : {\n",
    "               \"país\"       : \"Suécia\",\n",
    "               \"adversário\" : \"Suécia\",\n",
    "               \"colocação\"  : \"1\"\n",
    "             },\n",
    "\n",
    "    \"1970\" : {\n",
    "               \"país\"       : \"México\",\n",
    "               \"adversário\" : \"Itália\",\n",
    "               \"colocação\"  : \"1\"\n",
    "             },\n",
    "             \n",
    "    \"2014\" : {\n",
    "               \"país\"       : \"Brasil\",\n",
    "               \"adversário\" : \"Alemanha\",\n",
    "               \"colocação\"  : \"4\"\n",
    "              }\n",
    "               \n",
    "}\n",
    "\"\"\"\n",
    "import json\n",
    "d = json.loads(json_data)"
   ]
  },
  {
   "cell_type": "markdown",
   "metadata": {},
   "source": [
    "A estrutura JSON forma dicionários e listas. Como dicionários, você pode acessar com chave string, e listas com índices inteiros."
   ]
  },
  {
   "cell_type": "code",
   "execution_count": null,
   "metadata": {},
   "outputs": [],
   "source": [
    "d[\"1970\"]"
   ]
  },
  {
   "cell_type": "markdown",
   "metadata": {},
   "source": [
    "## **map** \n",
    "\n",
    "é uma forma de aplicar uma função repetidamente a todos os itens de um lista:"
   ]
  },
  {
   "cell_type": "code",
   "execution_count": null,
   "metadata": {},
   "outputs": [],
   "source": [
    "map(float,'1 2 3 4 5'.split())"
   ]
  },
  {
   "cell_type": "markdown",
   "metadata": {},
   "source": [
    "(???) a partir de Python3 `map` não retorna uma lista, mas um *iterável*. Para obter uma lista, basta construir uma a partir do retorno de `map`. "
   ]
  },
  {
   "cell_type": "code",
   "execution_count": null,
   "metadata": {},
   "outputs": [],
   "source": [
    "list(map(float,'1 2 3 4 5'.split()))"
   ]
  },
  {
   "cell_type": "markdown",
   "metadata": {},
   "source": [
    "# IV. Cronometrando Python: Timeit, Profiling, Cython, SWIG e PyPy\n",
    "\n",
    "[Donald Knuth](https://www-cs-faculty.stanford.edu/~knuth/) afirma:\n",
    "\n",
    "> *We should forget about small efficiencies, say about 97% of the time: premature optimization is the root of all evil.*\n",
    "\n",
    "Se você acredita que sua implementação sofre de lentidão, a segunda dica é \"procure um algoritmo melhor já testado\". Se ainda isso não for suficiente e você precisa medir onde está o gargalo de seu código, Python oferece ferramentas para medir o tempo que as rotinas estão consumindo.\n",
    "\n",
    "## Timeit\n",
    "`timeit` ajuda a determinar o tempo que uma rotina leva para ser executada. Primeiro, vamos construir uma rotina em Python puro que calcule o fatorial:"
   ]
  },
  {
   "cell_type": "code",
   "execution_count": null,
   "metadata": {},
   "outputs": [],
   "source": [
    "def fatorial(n):\n",
    "    if n <= 0:\n",
    "        return 1\n",
    "    return n*fatorial(n-1)"
   ]
  },
  {
   "cell_type": "code",
   "execution_count": null,
   "metadata": {},
   "outputs": [],
   "source": [
    "%timeit fatorial(20)"
   ]
  },
  {
   "cell_type": "markdown",
   "metadata": {},
   "source": [
    "O sinal `%` na frente do comando `timeit`é o que o IPython chama de [magic function](https://ipython.org/ipython-doc/dev/interactive/tutorial.html#magic-functions), mas agora não vem ao caso do que se trata.\n",
    "\n",
    "No meu teste ela demorou ~80ns por loop. Comparando com a implementação da biblioteca `math`:"
   ]
  },
  {
   "cell_type": "code",
   "execution_count": null,
   "metadata": {},
   "outputs": [],
   "source": [
    "%timeit math.factorial(20)"
   ]
  },
  {
   "cell_type": "markdown",
   "metadata": {},
   "source": [
    "No meu teste demorou ~343ps por loop, 200x mais rápido. Obviamente é um caso para usar biblioteca pronta otimizada do Python."
   ]
  },
  {
   "cell_type": "markdown",
   "metadata": {},
   "source": [
    "## *Profiling*"
   ]
  },
  {
   "cell_type": "markdown",
   "metadata": {},
   "source": [
    "*Profiling* complementa `timeit` separando o tempo total no tempo gasto por cada função.\n",
    "\n",
    "Suponha que queiramos criar uma lista de números pares:"
   ]
  },
  {
   "cell_type": "code",
   "execution_count": null,
   "metadata": {},
   "outputs": [],
   "source": [
    "def pares(n):\n",
    "    \"Retorna uma lista de números pares < n\"\n",
    "    l = []\n",
    "    for x in range(n):\n",
    "        if x % 2 == 0:\n",
    "            l.append(x)\n",
    "    return l"
   ]
  },
  {
   "cell_type": "code",
   "execution_count": null,
   "metadata": {},
   "outputs": [],
   "source": [
    "import cProfile\n",
    "cProfile.run('pares(100000)')"
   ]
  },
  {
   "cell_type": "markdown",
   "metadata": {},
   "source": [
    "22ms é rápido, não? Pode ser que não, caso você precisa executar essa rotina muitas vezes. O que o cProfile mostra é que `append` foi culpado por quase 20% do tempo total. Vamos usar uma *list comprehension* e ver se melhorarmos a performance."
   ]
  },
  {
   "cell_type": "code",
   "execution_count": null,
   "metadata": {},
   "outputs": [],
   "source": [
    "def pares2(n):\n",
    "    \"Retorna uma lista de números pares < n\"\n",
    "    return [x for x in range(n) if x % 2 == 0]"
   ]
  },
  {
   "cell_type": "code",
   "execution_count": null,
   "metadata": {},
   "outputs": [],
   "source": [
    "import cProfile\n",
    "cProfile.run('pares2(100000)')"
   ]
  },
  {
   "cell_type": "markdown",
   "metadata": {},
   "source": [
    "Mais que dobramos a velocidade de execução retirando uma função custosa."
   ]
  },
  {
   "cell_type": "markdown",
   "metadata": {},
   "source": [
    "## Outras formas de aumentar a performance do Python\n",
    "\n",
    "**OBS**:Nenhuma dessas receitas eu testei, apenas copiei-as *as is*, mas são boas dicas para necessidades especiais de performance.\n",
    "\n",
    "[Swig](http://swig.org/) (the simplified wrapper and interface generator) is a method to generate binding not only for Python but also for Matlab, Perl, Ruby, and other scripting languages. Swig can scan the header files of a C project and generate Python binding for it. Using Swig is substantially easier than writing the routines in C.\n",
    "\n",
    "[Cython](http://www.cython.org/) is a C-extension language. You can start by compiling a Python routine into a shared object libraries that can be imported into faster versions of the routines. You can then add additional static typing and make other restrictions to further speed the code. Cython is generally easier than using Swig.\n",
    "\n",
    "[PyPy](http://pypy.org/) is the easiest way of obtaining fast code. PyPy compiles Python to a subset of the Python language called RPython that can be efficiently compiled and optimized. Over a wide range of tests, PyPy is [roughly 6 times faster than the standard Python Distribution](http://speed.pypy.org/)."
   ]
  },
  {
   "cell_type": "markdown",
   "metadata": {},
   "source": [
    "# VII. Referências\n",
    "\n",
    "## Recursos de aprendizado \n",
    "\n",
    "> [Documentação oficial do Python 3](http://docs.python.org/3/).\n",
    "\n",
    "> [Tutorial do IPython](https://ipython.org/ipython-doc/dev/interactive/tutorial.html).\n",
    "\n",
    "> [Livro *Dive Into Python*](http://histo.ucsf.edu/BMS270/diveintopython3-r802.pdf).\n",
    "\n",
    "\n",
    "## Bilbiotecas essenciais\n",
    "\n",
    "[SciPy](https://www.scipy.org) (pronuncia-se “sai pai”) é um ecossistema baseado em Python de software open-source para matemática, ciência e engenharia. Em particular, esses são algus dos pacotes principais: \n",
    "\n",
    ">[NumPy](https://numpy.org): *\"Base N-dimensional array package\"*.\n",
    "\n",
    ">[Scipy Library](https://www.scipy.org/scipylib/index.html): *\"Fundamental library for scientific computing\"*.\n",
    "\n",
    ">[Matplotlib](https://matplotlib.org): *\"Comprehensive 2D Plotting\"* (mas tem toolkits 3D também).\n",
    "\n",
    ">[IPython](https://ipython.org) *\"Enhanced Interactive Console\"*.\n",
    "\n",
    ">[Sympy](https://www.sympy.org/en/index.html) \"Symbolic mathematics\".\n",
    "\n",
    ">[Pandas](https://pandas.pydata.org) \"Data structures & analysis\". \n",
    "\n"
   ]
  },
  {
   "cell_type": "code",
   "execution_count": null,
   "metadata": {},
   "outputs": [],
   "source": []
  }
 ],
 "metadata": {
  "kernelspec": {
   "display_name": "Python 3",
   "language": "python",
   "name": "python3"
  },
  "language_info": {
   "codemirror_mode": {
    "name": "ipython",
    "version": 3
   },
   "file_extension": ".py",
   "mimetype": "text/x-python",
   "name": "python",
   "nbconvert_exporter": "python",
   "pygments_lexer": "ipython3",
   "version": "3.6.0"
  }
 },
 "nbformat": 4,
 "nbformat_minor": 1
}
